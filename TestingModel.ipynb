{
 "cells": [
  {
   "cell_type": "code",
   "execution_count": 90,
   "id": "cc8ef988-8cb5-46e8-a96f-a6e78e93ce90",
   "metadata": {},
   "outputs": [],
   "source": [
    "import tkinter as tk\n",
    "from tkinter import filedialog\n",
    "from PIL import Image, ImageTk\n",
    "import numpy as np\n",
    "import matplotlib.pyplot as plt\n",
    "from tensorflow.keras.models import load_model\n",
    "from tensorflow.keras.preprocessing.sequence import pad_sequences\n",
    "from keras.applications.xception import Xception\n",
    "from pickle import load"
   ]
  },
  {
   "cell_type": "code",
   "execution_count": 91,
   "id": "1409eff0-cfc5-40dd-a257-9254ee279805",
   "metadata": {},
   "outputs": [],
   "source": [
    "# Load the Models \n",
    "# Load tokenizer\n",
    "tokenizer = load(open('tokenizer.p', 'rb'))\n",
    "vocab_size = len(tokenizer.word_index) + 1\n",
    "max_length = 32\n",
    "\n",
    "# Load trained model\n",
    "from tensorflow.keras.layers import Input, Dense, LSTM, Embedding, Dropout, add\n",
    "from tensorflow.keras.models import Model"
   ]
  },
  {
   "cell_type": "code",
   "execution_count": 115,
   "id": "03125a4e-08ea-4488-a719-4748b1458266",
   "metadata": {},
   "outputs": [],
   "source": [
    "def define_model(vocab_size, max_length):\n",
    "    inputs1 = Input(shape=(2048,))\n",
    "    fe1 = Dropout(0.5)(inputs1)\n",
    "    fe2 = Dense(256, activation='relu')(fe1)\n",
    "\n",
    "    inputs2 = Input(shape=(max_length,))\n",
    "    se1 = Embedding(vocab_size, 256, mask_zero=True)(inputs2)\n",
    "    se2 = Dropout(0.5)(se1)\n",
    "    se3 = LSTM(256)(se2)\n",
    "\n",
    "    decoder1 = add([fe2, se3])\n",
    "    decoder2 = Dense(256, activation='relu')(decoder1)\n",
    "    outputs = Dense(vocab_size, activation='softmax')(decoder2)\n",
    "\n",
    "    model = Model(inputs=[inputs1, inputs2], outputs=outputs)\n",
    "    model.compile(loss='categorical_crossentropy', optimizer='adam')\n",
    "    return model\n"
   ]
  },
  {
   "cell_type": "code",
   "execution_count": 139,
   "id": "dbfc53b8-b829-4d1e-8738-8a6aab7124c1",
   "metadata": {},
   "outputs": [],
   "source": [
    "model = define_model(vocab_size, max_length)\n",
    "model.load_weights(r\"C:\\Users\\ASUS\\Desktop\\Jupyter Notebook\\ML_Project\\models2\\model_image_caption4.h5\")\n",
    "\n",
    "# Load Xception model for feature extraction\n",
    "xception_model = Xception(include_top=False, pooling=\"avg\")"
   ]
  },
  {
   "cell_type": "code",
   "execution_count": 140,
   "id": "99c6d3d7-fd34-4cf8-ae61-ad48108014c6",
   "metadata": {},
   "outputs": [],
   "source": [
    "# Define Helper Functions \n",
    "def extract_features(filename, model):\n",
    "    image = Image.open(filename)\n",
    "    image = image.resize((299, 299))\n",
    "    image = np.array(image)\n",
    "    if image.shape[2] == 4:\n",
    "        image = image[..., :3]\n",
    "    image = np.expand_dims(image, axis=0)\n",
    "    image = image / 127.5\n",
    "    image = image - 1.0\n",
    "    feature = model.predict(image, verbose=0)\n",
    "    return feature\n",
    "\n",
    "def word_for_id(integer, tokenizer):\n",
    "    for word, index in tokenizer.word_index.items():\n",
    "        if index == integer:\n",
    "            return word\n",
    "    return None"
   ]
  },
  {
   "cell_type": "code",
   "execution_count": 141,
   "id": "4165c9b0-9684-4665-8e2e-dc56d31f3b16",
   "metadata": {},
   "outputs": [],
   "source": [
    "def generate_desc(model, tokenizer, photo, max_length):\n",
    "    in_text = 'start'\n",
    "    for _ in range(max_length):\n",
    "        sequence = tokenizer.texts_to_sequences([in_text])[0]\n",
    "        sequence = pad_sequences([sequence], maxlen=max_length)\n",
    "        yhat = model.predict([photo, sequence], verbose=0)\n",
    "        yhat = np.argmax(yhat)\n",
    "        word = word_for_id(yhat, tokenizer)\n",
    "        if word is None:\n",
    "            break\n",
    "        in_text += ' ' + word\n",
    "        if word == 'end':\n",
    "            break\n",
    "    return in_text"
   ]
  },
  {
   "cell_type": "code",
   "execution_count": 142,
   "id": "22f89ab5-205b-44a9-bb8a-ca221b831ee2",
   "metadata": {},
   "outputs": [],
   "source": [
    "# Tkinter App\n",
    "def select_image():\n",
    "    file_path = filedialog.askopenfilename()\n",
    "    if file_path:\n",
    "        # Display image\n",
    "        img = Image.open(file_path)\n",
    "        img = img.resize((250, 250))\n",
    "        img = ImageTk.PhotoImage(img)\n",
    "        image_panel.config(image=img)\n",
    "        image_panel.image = img\n",
    "\n",
    "        # Predict caption\n",
    "        photo = extract_features(file_path, xception_model)\n",
    "        \n",
    "        description = generate_desc(model, tokenizer, photo, max_length)\n",
    "        caption = description.replace('start', '').replace('end', '').strip()\n",
    "        result_label.config(text=\"Caption:\\n\" + caption)\n"
   ]
  },
  {
   "cell_type": "code",
   "execution_count": null,
   "id": "09c6db62-43ef-4021-9fb7-9c0a327a4e80",
   "metadata": {},
   "outputs": [],
   "source": [
    "\n",
    "# Create GUI window\n",
    "root = tk.Tk()\n",
    "root.title(\"Image Caption Generator\")\n",
    "root.geometry(\"800x800\")\n",
    "\n",
    "btn = tk.Button(root, text=\"Select Image\", command=select_image, font=('Arial', 14))\n",
    "btn.pack(pady=20)\n",
    "\n",
    "image_panel = tk.Label(root)\n",
    "image_panel.pack(pady=20)\n",
    "\n",
    "result_label = tk.Label(root, text=\"Caption for the image...\", wraplength=350, font=('Arial', 12))\n",
    "result_label.pack(pady=20)\n",
    "\n",
    "root.mainloop()\n"
   ]
  },
  {
   "cell_type": "code",
   "execution_count": null,
   "id": "dd6db070-5dda-4c72-a7ee-64848979f59d",
   "metadata": {},
   "outputs": [],
   "source": []
  },
  {
   "cell_type": "code",
   "execution_count": 33,
   "id": "f93fda30-051d-4544-bc12-4e6b0fe5aa07",
   "metadata": {},
   "outputs": [],
   "source": []
  },
  {
   "cell_type": "code",
   "execution_count": null,
   "id": "12cc7691-eca7-40db-b46f-ad9fce847d2c",
   "metadata": {},
   "outputs": [],
   "source": []
  }
 ],
 "metadata": {
  "kernelspec": {
   "display_name": "Python 3 (ipykernel)",
   "language": "python",
   "name": "python3"
  },
  "language_info": {
   "codemirror_mode": {
    "name": "ipython",
    "version": 3
   },
   "file_extension": ".py",
   "mimetype": "text/x-python",
   "name": "python",
   "nbconvert_exporter": "python",
   "pygments_lexer": "ipython3",
   "version": "3.12.7"
  }
 },
 "nbformat": 4,
 "nbformat_minor": 5
}
